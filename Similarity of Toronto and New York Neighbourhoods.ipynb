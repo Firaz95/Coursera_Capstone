{
    "cells": [
        {
            "cell_type": "markdown",
            "metadata": {
                "collapsed": true
            },
            "source": "<H1> Similarity of the Neighbourhoods in Toronto and New York for Emigration Purposes </H1>"
        },
        {
            "cell_type": "markdown",
            "metadata": {},
            "source": "<H2> Project Background </H2>"
        },
        {
            "cell_type": "markdown",
            "metadata": {},
            "source": "The aim of the project is to help people who are emigrating from Toronto to New York or vice versa to find similar neighbourhoods to where they currently live in terms of the venues nearby through visual aids. This will allow them to explore the different neighbourhhods and give them an idea of which neighbourhoods would be suitable for them to move to based on how similar they are to where they currently reside. It will also allow a general sense of how similar the two cities are and whether emigrating would be the right option for them. \n\nThe project will utilise Unsupervised Machine Learning using K-Means clustering to cluster similar neighbourhoods in both Toronto and New York based on the venues in their proximity."
        },
        {
            "cell_type": "markdown",
            "metadata": {},
            "source": "<H2> Data </H2>"
        },
        {
            "cell_type": "markdown",
            "metadata": {},
            "source": "The data to be used in the project consists of:\n1) Toronto neighbourhood data including the Boroughs and Neighbourhoods from the following Wikipedia page: https://en.wikipedia.org/wiki/List_of_postal_codes_of_Canada:_M\n\n2) New York neighbourhood data including the Neighbourhoods and latitudes and longitudes from the following JSON file: https://cf-courses-data.s3.us.cloud-object-storage.appdomain.cloud/IBMDeveloperSkillsNetwork-DS0701EN-SkillsNetwork/labs/newyork_data.json\n\n3) Latitude and Longitude data from Geocoder or a CSV file to obtain the location data for each neighbourhood in Toronto\n\n4) Foursquare data consisting of the nearby venues obtained using the Foursquare API with the latitude and longitude data\n\nThis data will be examined and explored using techniques such as visualisation before being preprocessed to convert it from it's raw form to a form which can be analysed. Any categorical variables will be encoded using One Hot Encoding and then the data will be standardised to ensure the attributes are weighted fairly. The data will be combined using the relevant criteria in order to allow the neighbourhoods to be compared and clustered based on their similarities in terms of venues. This will then be visualised to allow the analysis and learnings to be easily understood and evaluated to allow comparisons of neighbourhoods in both Toronto and New York. "
        },
        {
            "cell_type": "code",
            "execution_count": null,
            "metadata": {},
            "outputs": [],
            "source": ""
        }
    ],
    "metadata": {
        "kernelspec": {
            "display_name": "Python 3.7",
            "language": "python",
            "name": "python3"
        },
        "language_info": {
            "codemirror_mode": {
                "name": "ipython",
                "version": 3
            },
            "file_extension": ".py",
            "mimetype": "text/x-python",
            "name": "python",
            "nbconvert_exporter": "python",
            "pygments_lexer": "ipython3",
            "version": "3.7.9"
        }
    },
    "nbformat": 4,
    "nbformat_minor": 1
}